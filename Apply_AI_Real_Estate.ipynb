{
  "nbformat": 4,
  "nbformat_minor": 0,
  "metadata": {
    "colab": {
      "provenance": []
    },
    "kernelspec": {
      "name": "python3",
      "display_name": "Python 3"
    },
    "language_info": {
      "name": "python"
    }
  },
  "cells": [
    {
      "cell_type": "code",
      "source": [
        "from google.colab import drive\n",
        "drive.mount('/content/gdrive')"
      ],
      "metadata": {
        "id": "rpPrrP6bpUjM",
        "colab": {
          "base_uri": "https://localhost:8080/"
        },
        "outputId": "8b87a456-4b05-481f-e191-bae304953c60"
      },
      "execution_count": 1,
      "outputs": [
        {
          "output_type": "stream",
          "name": "stdout",
          "text": [
            "Mounted at /content/gdrive\n"
          ]
        }
      ]
    },
    {
      "cell_type": "code",
      "execution_count": 2,
      "metadata": {
        "id": "eg9e-Tf3ELnu"
      },
      "outputs": [],
      "source": [
        "import pandas as pd\n",
        "import torch\n",
        "from torch.autograd import Variable\n",
        "import numpy as np\n",
        "import matplotlib.pyplot as plt"
      ]
    },
    {
      "cell_type": "code",
      "source": [
        "import numpy as np\n",
        "from sklearn.linear_model import LinearRegression"
      ],
      "metadata": {
        "id": "FtwTVnmM98eL"
      },
      "execution_count": 3,
      "outputs": []
    },
    {
      "cell_type": "code",
      "source": [
        "data = pd.read_csv(\"/content/gdrive/MyDrive/realtor-data.csv\")\n",
        "data = data.dropna(subset = ['house_size', 'price'])\n",
        "data"
      ],
      "metadata": {
        "colab": {
          "base_uri": "https://localhost:8080/",
          "height": 467
        },
        "id": "Z5ZYlge9xRdi",
        "outputId": "503550f2-d0e7-4d1c-ace2-ab3bbe20edfc"
      },
      "execution_count": 4,
      "outputs": [
        {
          "output_type": "execute_result",
          "data": {
            "text/plain": [
              "          status     price  bed  bath  acre_lot  \\\n",
              "0       for_sale  105000.0  3.0   2.0      0.12   \n",
              "1       for_sale   80000.0  4.0   2.0      0.08   \n",
              "2       for_sale   67000.0  2.0   1.0      0.15   \n",
              "3       for_sale  145000.0  4.0   2.0      0.10   \n",
              "5       for_sale  179000.0  4.0   3.0      0.46   \n",
              "...          ...       ...  ...   ...       ...   \n",
              "923154  for_sale  445000.0  1.0   2.0      0.99   \n",
              "923155  for_sale  418000.0  4.0   2.0      0.40   \n",
              "923156  for_sale  469000.0  4.0   2.0      0.18   \n",
              "923157  for_sale  825000.0  5.0   5.0      0.79   \n",
              "923158  for_sale   88000.0  NaN   NaN     35.00   \n",
              "\n",
              "                                             full_address  \\\n",
              "0       Sector Yahuecas Titulo # V84, Adjuntas, PR, 00601   \n",
              "1                 Km 78 9 Carr # 135, Adjuntas, PR, 00601   \n",
              "2                 556G 556-G 16 St, Juana Diaz, PR, 00795   \n",
              "3       R5 Comunidad El Paraso Calle De Oro R-5 Ponce,...   \n",
              "5       Bo Calabazas San Sebastian, San Sebastian, PR,...   \n",
              "...                                                   ...   \n",
              "923154                 1008 King St, Chappaqua, NY, 10514   \n",
              "923155                    3 Elmwood Dr, Monroe, NY, 10950   \n",
              "923156                13 N Conger Ave, Congers, NY, 10920   \n",
              "923157             7 Miller Rd, Valley Cottage, NY, 10989   \n",
              "923158  D18 Half Moon Bay Dr, Croton On Hudson, NY, 10520   \n",
              "\n",
              "                                               street              city  \\\n",
              "0                        Sector Yahuecas Titulo # V84          Adjuntas   \n",
              "1                                  Km 78 9 Carr # 135          Adjuntas   \n",
              "2                                    556G 556-G 16 St        Juana Diaz   \n",
              "3       R5 Comunidad El Paraso Calle De Oro R-5 Ponce             Ponce   \n",
              "5                          Bo Calabazas San Sebastian     San Sebastian   \n",
              "...                                               ...               ...   \n",
              "923154                                   1008 King St         Chappaqua   \n",
              "923155                                   3 Elmwood Dr            Monroe   \n",
              "923156                                13 N Conger Ave           Congers   \n",
              "923157                                    7 Miller Rd    Valley Cottage   \n",
              "923158                           D18 Half Moon Bay Dr  Croton On Hudson   \n",
              "\n",
              "              state  zip_code  house_size   sold_date  \n",
              "0       Puerto Rico     601.0       920.0         NaN  \n",
              "1       Puerto Rico     601.0      1527.0         NaN  \n",
              "2       Puerto Rico     795.0       748.0         NaN  \n",
              "3       Puerto Rico     731.0      1800.0         NaN  \n",
              "5       Puerto Rico     612.0      2520.0         NaN  \n",
              "...             ...       ...         ...         ...  \n",
              "923154     New York   10514.0      1052.0  2011-05-09  \n",
              "923155     New York   10950.0      1650.0  2015-07-21  \n",
              "923156     New York   10920.0      2123.0         NaN  \n",
              "923157     New York   10989.0      3775.0  2010-06-02  \n",
              "923158     New York   10520.0       780.0         NaN  \n",
              "\n",
              "[625245 rows x 12 columns]"
            ],
            "text/html": [
              "\n",
              "  <div id=\"df-ee430b48-e157-4f7b-b158-5468079cdd19\">\n",
              "    <div class=\"colab-df-container\">\n",
              "      <div>\n",
              "<style scoped>\n",
              "    .dataframe tbody tr th:only-of-type {\n",
              "        vertical-align: middle;\n",
              "    }\n",
              "\n",
              "    .dataframe tbody tr th {\n",
              "        vertical-align: top;\n",
              "    }\n",
              "\n",
              "    .dataframe thead th {\n",
              "        text-align: right;\n",
              "    }\n",
              "</style>\n",
              "<table border=\"1\" class=\"dataframe\">\n",
              "  <thead>\n",
              "    <tr style=\"text-align: right;\">\n",
              "      <th></th>\n",
              "      <th>status</th>\n",
              "      <th>price</th>\n",
              "      <th>bed</th>\n",
              "      <th>bath</th>\n",
              "      <th>acre_lot</th>\n",
              "      <th>full_address</th>\n",
              "      <th>street</th>\n",
              "      <th>city</th>\n",
              "      <th>state</th>\n",
              "      <th>zip_code</th>\n",
              "      <th>house_size</th>\n",
              "      <th>sold_date</th>\n",
              "    </tr>\n",
              "  </thead>\n",
              "  <tbody>\n",
              "    <tr>\n",
              "      <th>0</th>\n",
              "      <td>for_sale</td>\n",
              "      <td>105000.0</td>\n",
              "      <td>3.0</td>\n",
              "      <td>2.0</td>\n",
              "      <td>0.12</td>\n",
              "      <td>Sector Yahuecas Titulo # V84, Adjuntas, PR, 00601</td>\n",
              "      <td>Sector Yahuecas Titulo # V84</td>\n",
              "      <td>Adjuntas</td>\n",
              "      <td>Puerto Rico</td>\n",
              "      <td>601.0</td>\n",
              "      <td>920.0</td>\n",
              "      <td>NaN</td>\n",
              "    </tr>\n",
              "    <tr>\n",
              "      <th>1</th>\n",
              "      <td>for_sale</td>\n",
              "      <td>80000.0</td>\n",
              "      <td>4.0</td>\n",
              "      <td>2.0</td>\n",
              "      <td>0.08</td>\n",
              "      <td>Km 78 9 Carr # 135, Adjuntas, PR, 00601</td>\n",
              "      <td>Km 78 9 Carr # 135</td>\n",
              "      <td>Adjuntas</td>\n",
              "      <td>Puerto Rico</td>\n",
              "      <td>601.0</td>\n",
              "      <td>1527.0</td>\n",
              "      <td>NaN</td>\n",
              "    </tr>\n",
              "    <tr>\n",
              "      <th>2</th>\n",
              "      <td>for_sale</td>\n",
              "      <td>67000.0</td>\n",
              "      <td>2.0</td>\n",
              "      <td>1.0</td>\n",
              "      <td>0.15</td>\n",
              "      <td>556G 556-G 16 St, Juana Diaz, PR, 00795</td>\n",
              "      <td>556G 556-G 16 St</td>\n",
              "      <td>Juana Diaz</td>\n",
              "      <td>Puerto Rico</td>\n",
              "      <td>795.0</td>\n",
              "      <td>748.0</td>\n",
              "      <td>NaN</td>\n",
              "    </tr>\n",
              "    <tr>\n",
              "      <th>3</th>\n",
              "      <td>for_sale</td>\n",
              "      <td>145000.0</td>\n",
              "      <td>4.0</td>\n",
              "      <td>2.0</td>\n",
              "      <td>0.10</td>\n",
              "      <td>R5 Comunidad El Paraso Calle De Oro R-5 Ponce,...</td>\n",
              "      <td>R5 Comunidad El Paraso Calle De Oro R-5 Ponce</td>\n",
              "      <td>Ponce</td>\n",
              "      <td>Puerto Rico</td>\n",
              "      <td>731.0</td>\n",
              "      <td>1800.0</td>\n",
              "      <td>NaN</td>\n",
              "    </tr>\n",
              "    <tr>\n",
              "      <th>5</th>\n",
              "      <td>for_sale</td>\n",
              "      <td>179000.0</td>\n",
              "      <td>4.0</td>\n",
              "      <td>3.0</td>\n",
              "      <td>0.46</td>\n",
              "      <td>Bo Calabazas San Sebastian, San Sebastian, PR,...</td>\n",
              "      <td>Bo Calabazas San Sebastian</td>\n",
              "      <td>San Sebastian</td>\n",
              "      <td>Puerto Rico</td>\n",
              "      <td>612.0</td>\n",
              "      <td>2520.0</td>\n",
              "      <td>NaN</td>\n",
              "    </tr>\n",
              "    <tr>\n",
              "      <th>...</th>\n",
              "      <td>...</td>\n",
              "      <td>...</td>\n",
              "      <td>...</td>\n",
              "      <td>...</td>\n",
              "      <td>...</td>\n",
              "      <td>...</td>\n",
              "      <td>...</td>\n",
              "      <td>...</td>\n",
              "      <td>...</td>\n",
              "      <td>...</td>\n",
              "      <td>...</td>\n",
              "      <td>...</td>\n",
              "    </tr>\n",
              "    <tr>\n",
              "      <th>923154</th>\n",
              "      <td>for_sale</td>\n",
              "      <td>445000.0</td>\n",
              "      <td>1.0</td>\n",
              "      <td>2.0</td>\n",
              "      <td>0.99</td>\n",
              "      <td>1008 King St, Chappaqua, NY, 10514</td>\n",
              "      <td>1008 King St</td>\n",
              "      <td>Chappaqua</td>\n",
              "      <td>New York</td>\n",
              "      <td>10514.0</td>\n",
              "      <td>1052.0</td>\n",
              "      <td>2011-05-09</td>\n",
              "    </tr>\n",
              "    <tr>\n",
              "      <th>923155</th>\n",
              "      <td>for_sale</td>\n",
              "      <td>418000.0</td>\n",
              "      <td>4.0</td>\n",
              "      <td>2.0</td>\n",
              "      <td>0.40</td>\n",
              "      <td>3 Elmwood Dr, Monroe, NY, 10950</td>\n",
              "      <td>3 Elmwood Dr</td>\n",
              "      <td>Monroe</td>\n",
              "      <td>New York</td>\n",
              "      <td>10950.0</td>\n",
              "      <td>1650.0</td>\n",
              "      <td>2015-07-21</td>\n",
              "    </tr>\n",
              "    <tr>\n",
              "      <th>923156</th>\n",
              "      <td>for_sale</td>\n",
              "      <td>469000.0</td>\n",
              "      <td>4.0</td>\n",
              "      <td>2.0</td>\n",
              "      <td>0.18</td>\n",
              "      <td>13 N Conger Ave, Congers, NY, 10920</td>\n",
              "      <td>13 N Conger Ave</td>\n",
              "      <td>Congers</td>\n",
              "      <td>New York</td>\n",
              "      <td>10920.0</td>\n",
              "      <td>2123.0</td>\n",
              "      <td>NaN</td>\n",
              "    </tr>\n",
              "    <tr>\n",
              "      <th>923157</th>\n",
              "      <td>for_sale</td>\n",
              "      <td>825000.0</td>\n",
              "      <td>5.0</td>\n",
              "      <td>5.0</td>\n",
              "      <td>0.79</td>\n",
              "      <td>7 Miller Rd, Valley Cottage, NY, 10989</td>\n",
              "      <td>7 Miller Rd</td>\n",
              "      <td>Valley Cottage</td>\n",
              "      <td>New York</td>\n",
              "      <td>10989.0</td>\n",
              "      <td>3775.0</td>\n",
              "      <td>2010-06-02</td>\n",
              "    </tr>\n",
              "    <tr>\n",
              "      <th>923158</th>\n",
              "      <td>for_sale</td>\n",
              "      <td>88000.0</td>\n",
              "      <td>NaN</td>\n",
              "      <td>NaN</td>\n",
              "      <td>35.00</td>\n",
              "      <td>D18 Half Moon Bay Dr, Croton On Hudson, NY, 10520</td>\n",
              "      <td>D18 Half Moon Bay Dr</td>\n",
              "      <td>Croton On Hudson</td>\n",
              "      <td>New York</td>\n",
              "      <td>10520.0</td>\n",
              "      <td>780.0</td>\n",
              "      <td>NaN</td>\n",
              "    </tr>\n",
              "  </tbody>\n",
              "</table>\n",
              "<p>625245 rows × 12 columns</p>\n",
              "</div>\n",
              "      <button class=\"colab-df-convert\" onclick=\"convertToInteractive('df-ee430b48-e157-4f7b-b158-5468079cdd19')\"\n",
              "              title=\"Convert this dataframe to an interactive table.\"\n",
              "              style=\"display:none;\">\n",
              "        \n",
              "  <svg xmlns=\"http://www.w3.org/2000/svg\" height=\"24px\"viewBox=\"0 0 24 24\"\n",
              "       width=\"24px\">\n",
              "    <path d=\"M0 0h24v24H0V0z\" fill=\"none\"/>\n",
              "    <path d=\"M18.56 5.44l.94 2.06.94-2.06 2.06-.94-2.06-.94-.94-2.06-.94 2.06-2.06.94zm-11 1L8.5 8.5l.94-2.06 2.06-.94-2.06-.94L8.5 2.5l-.94 2.06-2.06.94zm10 10l.94 2.06.94-2.06 2.06-.94-2.06-.94-.94-2.06-.94 2.06-2.06.94z\"/><path d=\"M17.41 7.96l-1.37-1.37c-.4-.4-.92-.59-1.43-.59-.52 0-1.04.2-1.43.59L10.3 9.45l-7.72 7.72c-.78.78-.78 2.05 0 2.83L4 21.41c.39.39.9.59 1.41.59.51 0 1.02-.2 1.41-.59l7.78-7.78 2.81-2.81c.8-.78.8-2.07 0-2.86zM5.41 20L4 18.59l7.72-7.72 1.47 1.35L5.41 20z\"/>\n",
              "  </svg>\n",
              "      </button>\n",
              "      \n",
              "  <style>\n",
              "    .colab-df-container {\n",
              "      display:flex;\n",
              "      flex-wrap:wrap;\n",
              "      gap: 12px;\n",
              "    }\n",
              "\n",
              "    .colab-df-convert {\n",
              "      background-color: #E8F0FE;\n",
              "      border: none;\n",
              "      border-radius: 50%;\n",
              "      cursor: pointer;\n",
              "      display: none;\n",
              "      fill: #1967D2;\n",
              "      height: 32px;\n",
              "      padding: 0 0 0 0;\n",
              "      width: 32px;\n",
              "    }\n",
              "\n",
              "    .colab-df-convert:hover {\n",
              "      background-color: #E2EBFA;\n",
              "      box-shadow: 0px 1px 2px rgba(60, 64, 67, 0.3), 0px 1px 3px 1px rgba(60, 64, 67, 0.15);\n",
              "      fill: #174EA6;\n",
              "    }\n",
              "\n",
              "    [theme=dark] .colab-df-convert {\n",
              "      background-color: #3B4455;\n",
              "      fill: #D2E3FC;\n",
              "    }\n",
              "\n",
              "    [theme=dark] .colab-df-convert:hover {\n",
              "      background-color: #434B5C;\n",
              "      box-shadow: 0px 1px 3px 1px rgba(0, 0, 0, 0.15);\n",
              "      filter: drop-shadow(0px 1px 2px rgba(0, 0, 0, 0.3));\n",
              "      fill: #FFFFFF;\n",
              "    }\n",
              "  </style>\n",
              "\n",
              "      <script>\n",
              "        const buttonEl =\n",
              "          document.querySelector('#df-ee430b48-e157-4f7b-b158-5468079cdd19 button.colab-df-convert');\n",
              "        buttonEl.style.display =\n",
              "          google.colab.kernel.accessAllowed ? 'block' : 'none';\n",
              "\n",
              "        async function convertToInteractive(key) {\n",
              "          const element = document.querySelector('#df-ee430b48-e157-4f7b-b158-5468079cdd19');\n",
              "          const dataTable =\n",
              "            await google.colab.kernel.invokeFunction('convertToInteractive',\n",
              "                                                     [key], {});\n",
              "          if (!dataTable) return;\n",
              "\n",
              "          const docLinkHtml = 'Like what you see? Visit the ' +\n",
              "            '<a target=\"_blank\" href=https://colab.research.google.com/notebooks/data_table.ipynb>data table notebook</a>'\n",
              "            + ' to learn more about interactive tables.';\n",
              "          element.innerHTML = '';\n",
              "          dataTable['output_type'] = 'display_data';\n",
              "          await google.colab.output.renderOutput(dataTable, element);\n",
              "          const docLink = document.createElement('div');\n",
              "          docLink.innerHTML = docLinkHtml;\n",
              "          element.appendChild(docLink);\n",
              "        }\n",
              "      </script>\n",
              "    </div>\n",
              "  </div>\n",
              "  "
            ]
          },
          "metadata": {},
          "execution_count": 4
        }
      ]
    },
    {
      "cell_type": "code",
      "source": [
        "plt.plot(data[\"house_size\"]/1000, data[\"price\"]/10000)"
      ],
      "metadata": {
        "colab": {
          "base_uri": "https://localhost:8080/",
          "height": 282
        },
        "id": "1BtDtJqoRu3J",
        "outputId": "36c170be-2e97-4804-f8fa-900d86cfadbf"
      },
      "execution_count": 5,
      "outputs": [
        {
          "output_type": "execute_result",
          "data": {
            "text/plain": [
              "[<matplotlib.lines.Line2D at 0x7f0cb385a510>]"
            ]
          },
          "metadata": {},
          "execution_count": 5
        },
        {
          "output_type": "display_data",
          "data": {
            "text/plain": [
              "<Figure size 432x288 with 1 Axes>"
            ],
            "image/png": "[encoded data removed]"
          },
          "metadata": {
            "needs_background": "light"
          }
        }
      ]
    },
    {
      "cell_type": "markdown",
      "source": [
        "# House_size VS Price\n"
      ],
      "metadata": {
        "id": "Jy1mLOWeqoBp"
      }
    },
    {
      "cell_type": "markdown",
      "source": [
        "## ALL DATA"
      ],
      "metadata": {
        "id": "w3ej_a7CY2jU"
      }
    },
    {
      "cell_type": "code",
      "source": [
        "# Since the tutorial just using basic linear equation, y = ax + b\n",
        "# We will using price as y and acre_lot as x\n",
        "# create dummy data for training\n",
        "\n",
        "x_train = np.array(data[\"house_size\"], dtype=np.float32)\n",
        "x_train = x_train.reshape(-1, 1)\n",
        "y_train = np.array(data[\"price\"], dtype=np.float32)\n",
        "y_train = y_train.reshape(-1, 1)\n"
      ],
      "metadata": {
        "id": "JfFxy8TDWscl"
      },
      "execution_count": 6,
      "outputs": []
    },
    {
      "cell_type": "code",
      "source": [
        "x_train = x_train /1000.0\n",
        "y_train = y_train /100000.0\n",
        "print(x_train)\n",
        "print(y_train)"
      ],
      "metadata": {
        "colab": {
          "base_uri": "https://localhost:8080/"
        },
        "id": "nHpx1C876ZCB",
        "outputId": "f80b1841-b2cc-4257-9430-e79cfaceb8d2"
      },
      "execution_count": 7,
      "outputs": [
        {
          "output_type": "stream",
          "name": "stdout",
          "text": [
            "[[0.92 ]\n",
            " [1.527]\n",
            " [0.748]\n",
            " ...\n",
            " [2.123]\n",
            " [3.775]\n",
            " [0.78 ]]\n",
            "[[1.05]\n",
            " [0.8 ]\n",
            " [0.67]\n",
            " ...\n",
            " [4.69]\n",
            " [8.25]\n",
            " [0.88]]\n"
          ]
        }
      ]
    },
    {
      "cell_type": "code",
      "source": [
        "# with torch.no_grad(): # we don't need gradients in the testing phase\n",
        "#     if torch.cuda.is_available():\n",
        "#         predicted = model(Variable(torch.from_numpy(x_train).cuda())).cpu().data.numpy()\n",
        "#     else:\n",
        "#         predicted = model(Variable(torch.from_numpy(x_train))).data.numpy()\n",
        "#     print(predicted)\n",
        "\n",
        "plt.clf()\n",
        "plt.plot(x_train, y_train, 'go', label='True data', alpha=0.5)\n",
        "#plt.plot(x_train, predicted, '--', label='Predictions', alpha=0.5)\n",
        "plt.legend(loc='best')\n",
        "plt.show()"
      ],
      "metadata": {
        "colab": {
          "base_uri": "https://localhost:8080/",
          "height": 0
        },
        "id": "IeNC7E36IRsu",
        "outputId": "8222d441-ca94-4e53-f23d-c29d1e2cc455"
      },
      "execution_count": 8,
      "outputs": [
        {
          "output_type": "display_data",
          "data": {
            "text/plain": [
              "<Figure size 432x288 with 1 Axes>"
            ],
            "image/png": "[encoded data removed]"
          },
          "metadata": {
            "needs_background": "light"
          }
        }
      ]
    },
    {
      "cell_type": "code",
      "source": [
        "model = LinearRegression()"
      ],
      "metadata": {
        "id": "BxXxlUpFBsLh"
      },
      "execution_count": 9,
      "outputs": []
    },
    {
      "cell_type": "code",
      "source": [
        "model.fit(x_train, y_train)"
      ],
      "metadata": {
        "colab": {
          "base_uri": "https://localhost:8080/"
        },
        "id": "iE3dLdZTByg2",
        "outputId": "c653d964-a777-4e82-ad50-b79958d5a397"
      },
      "execution_count": 10,
      "outputs": [
        {
          "output_type": "execute_result",
          "data": {
            "text/plain": [
              "LinearRegression()"
            ]
          },
          "metadata": {},
          "execution_count": 10
        }
      ]
    },
    {
      "cell_type": "code",
      "source": [
        "r_sq = model.score(x_train, y_train)\n",
        "print(f\"coefficient of determination: {r_sq}\")"
      ],
      "metadata": {
        "colab": {
          "base_uri": "https://localhost:8080/"
        },
        "id": "omGzJFSTC2Rb",
        "outputId": "dabe02e6-64d7-45e0-fe31-a0e28b6549e3"
      },
      "execution_count": 11,
      "outputs": [
        {
          "output_type": "stream",
          "name": "stdout",
          "text": [
            "coefficient of determination: 0.02729473904430435\n"
          ]
        }
      ]
    },
    {
      "cell_type": "code",
      "source": [
        "print(f\"intercept: {model.intercept_}\")\n",
        "print(f\"slope: {model.coef_}\")\n",
        "\n",
        "y_p = model.predict(x_train)\n",
        "plt.plot(x_train, y_p)\n",
        "plt.plot(x_train, y_train, 'go', label='True data', alpha=0.5)\n",
        "plt.xlim((0,200))\n",
        "plt.ylim((0,2000))"
      ],
      "metadata": {
        "colab": {
          "base_uri": "https://localhost:8080/",
          "height": 0
        },
        "id": "9q7Uv8upDHwx",
        "outputId": "41aa1e75-cb0d-402f-c9cd-7d9a1ce66521"
      },
      "execution_count": 12,
      "outputs": [
        {
          "output_type": "stream",
          "name": "stdout",
          "text": [
            "intercept: [6.1680956]\n",
            "slope: [[1.6462035]]\n"
          ]
        },
        {
          "output_type": "execute_result",
          "data": {
            "text/plain": [
              "(0.0, 2000.0)"
            ]
          },
          "metadata": {},
          "execution_count": 12
        },
        {
          "output_type": "display_data",
          "data": {
            "text/plain": [
              "<Figure size 432x288 with 1 Axes>"
            ],
            "image/png": "[encoded data removed]"
          },
          "metadata": {
            "needs_background": "light"
          }
        }
      ]
    },
    {
      "cell_type": "markdown",
      "source": [
        "## NY Data"
      ],
      "metadata": {
        "id": "j9Z-6QHPGh2U"
      }
    },
    {
      "cell_type": "code",
      "source": [
        "data_ny = data[data['state'] == 'New York']\n",
        "data_ny_train = data_ny.sample(frac=0.8)\n",
        "data_np_test = data_ny.drop(data_ny_train.index)\n",
        "\n",
        "print(data_ny_train.size)\n",
        "print(data_np_test.size)\n",
        "\n",
        "x_test = np.array(data_np_test[\"house_size\"], dtype=np.float32)\n",
        "x_test = x_test.reshape(-1, 1)\n",
        "y_test = np.array(data_np_test[\"price\"], dtype=np.float32)\n",
        "y_test = y_test.reshape(-1, 1)\n",
        "x_test = np.log(x_test /1000.0)\n",
        "y_test = np.log(y_test /100000.0)"
      ],
      "metadata": {
        "id": "y0gEwgXIFbfp",
        "colab": {
          "base_uri": "https://localhost:8080/"
        },
        "outputId": "49ab6e6b-25cb-48e8-afa0-a9e961e96c6d"
      },
      "execution_count": 13,
      "outputs": [
        {
          "output_type": "stream",
          "name": "stdout",
          "text": [
            "1287540\n",
            "321888\n"
          ]
        }
      ]
    },
    {
      "cell_type": "code",
      "source": [
        "# Since the tutorial just using basic linear equation, y = ax + b\n",
        "# We will using price as y and acre_lot as x\n",
        "# create dummy data for training\n",
        "\n",
        "x_train = np.array(data_ny_train[\"house_size\"], dtype=np.float32)\n",
        "x_train = x_train.reshape(-1, 1)\n",
        "y_train = np.array(data_ny_train[\"price\"], dtype=np.float32)\n",
        "y_train = y_train.reshape(-1, 1)\n",
        "\n"
      ],
      "metadata": {
        "id": "4wNH0nzHG-e5"
      },
      "execution_count": 14,
      "outputs": []
    },
    {
      "cell_type": "code",
      "source": [
        "x_train = np.log(x_train /1000.0)\n",
        "y_train = np.log(y_train /100000.0)\n",
        "print(x_train)\n",
        "print(y_train)"
      ],
      "metadata": {
        "colab": {
          "base_uri": "https://localhost:8080/"
        },
        "outputId": "15c8ea66-336b-4a8c-92e3-917fc4e80403",
        "id": "4bqCfDk0G-e5"
      },
      "execution_count": 15,
      "outputs": [
        {
          "output_type": "stream",
          "name": "stdout",
          "text": [
            "[[ 0.8548408 ]\n",
            " [ 1.011601  ]\n",
            " [-0.05129331]\n",
            " ...\n",
            " [ 0.91629076]\n",
            " [-1.2039728 ]\n",
            " [-0.17435342]]\n",
            "[[4.4716387]\n",
            " [2.3513753]\n",
            " [1.6074358]\n",
            " ...\n",
            " [2.8332133]\n",
            " [0.3920421]\n",
            " [1.5018526]]\n"
          ]
        }
      ]
    },
    {
      "cell_type": "code",
      "source": [
        "# with torch.no_grad(): # we don't need gradients in the testing phase\n",
        "#     if torch.cuda.is_available():\n",
        "#         predicted = model(Variable(torch.from_numpy(x_train).cuda())).cpu().data.numpy()\n",
        "#     else:\n",
        "#         predicted = model(Variable(torch.from_numpy(x_train))).data.numpy()\n",
        "#     print(predicted)\n",
        "\n",
        "plt.clf()\n",
        "plt.plot((x_train), (y_train), 'go', label='True data', alpha=0.5)\n",
        "#plt.plot(x_train, predicted, '--', label='Predictions', alpha=0.5)\n",
        "plt.legend(loc='best')\n",
        "plt.show()"
      ],
      "metadata": {
        "colab": {
          "base_uri": "https://localhost:8080/",
          "height": 0
        },
        "outputId": "3867328a-a019-4bbe-9368-227f482adcab",
        "id": "m6erK55_G-e5"
      },
      "execution_count": 16,
      "outputs": [
        {
          "output_type": "display_data",
          "data": {
            "text/plain": [
              "<Figure size 432x288 with 1 Axes>"
            ],
            "image/png": "[encoded data removed]"
          },
          "metadata": {
            "needs_background": "light"
          }
        }
      ]
    },
    {
      "cell_type": "code",
      "source": [
        "model = LinearRegression()"
      ],
      "metadata": {
        "id": "06hA0lU5HsCL"
      },
      "execution_count": 17,
      "outputs": []
    },
    {
      "cell_type": "code",
      "source": [
        "model.fit(x_train, y_train)"
      ],
      "metadata": {
        "colab": {
          "base_uri": "https://localhost:8080/"
        },
        "outputId": "376a7da0-fe92-4338-e8b8-e826a7e95f87",
        "id": "qWKXau1SHsCM"
      },
      "execution_count": 18,
      "outputs": [
        {
          "output_type": "execute_result",
          "data": {
            "text/plain": [
              "LinearRegression()"
            ]
          },
          "metadata": {},
          "execution_count": 18
        }
      ]
    },
    {
      "cell_type": "code",
      "source": [
        "r_sq = model.score(x_train, y_train)\n",
        "print(f\"coefficient of determination: {r_sq}\")"
      ],
      "metadata": {
        "colab": {
          "base_uri": "https://localhost:8080/"
        },
        "outputId": "a2032cbe-de9e-4253-eae7-bcb4f75b3362",
        "id": "v0THFWnZHsCN"
      },
      "execution_count": 19,
      "outputs": [
        {
          "output_type": "stream",
          "name": "stdout",
          "text": [
            "coefficient of determination: 0.37141149732005485\n"
          ]
        }
      ]
    },
    {
      "cell_type": "code",
      "source": [
        "print(f\"intercept: {model.intercept_}\")\n",
        "print(f\"slope: {model.coef_}\")\n",
        "\n",
        "y_p = model.predict(x_train)\n",
        "plt.plot(x_train, y_p)\n",
        "plt.plot(x_train, y_train, 'go', label='True data', alpha=0.5)"
      ],
      "metadata": {
        "colab": {
          "base_uri": "https://localhost:8080/",
          "height": 0
        },
        "outputId": "9b60e68a-1c92-4b0a-ee53-7d9981c44178",
        "id": "2Ptz08FEHsCN"
      },
      "execution_count": 20,
      "outputs": [
        {
          "output_type": "stream",
          "name": "stdout",
          "text": [
            "intercept: [1.9860705]\n",
            "slope: [[0.9588657]]\n"
          ]
        },
        {
          "output_type": "execute_result",
          "data": {
            "text/plain": [
              "[<matplotlib.lines.Line2D at 0x7f0cb3e9a990>]"
            ]
          },
          "metadata": {},
          "execution_count": 20
        },
        {
          "output_type": "display_data",
          "data": {
            "text/plain": [
              "<Figure size 432x288 with 1 Axes>"
            ],
            "image/png": "[encoded data removed]"
          },
          "metadata": {
            "needs_background": "light"
          }
        }
      ]
    },
    {
      "cell_type": "code",
      "source": [
        "print(f\"intercept: {model.intercept_}\")\n",
        "print(f\"slope: {model.coef_}\")\n",
        "\n",
        "y_p = model.predict(x_train)\n",
        "plt.plot(y_train, y_p, 'go', label='True data', alpha=0.5)\n"
      ],
      "metadata": {
        "colab": {
          "base_uri": "https://localhost:8080/",
          "height": 0
        },
        "id": "QmKRgbpaNply",
        "outputId": "84f9de5b-aae3-48d7-ef1d-b6fe9016b7e8"
      },
      "execution_count": 21,
      "outputs": [
        {
          "output_type": "stream",
          "name": "stdout",
          "text": [
            "intercept: [1.9860705]\n",
            "slope: [[0.9588657]]\n"
          ]
        },
        {
          "output_type": "execute_result",
          "data": {
            "text/plain": [
              "[<matplotlib.lines.Line2D at 0x7f0cb42afe50>]"
            ]
          },
          "metadata": {},
          "execution_count": 21
        },
        {
          "output_type": "display_data",
          "data": {
            "text/plain": [
              "<Figure size 432x288 with 1 Axes>"
            ],
            "image/png": "[encoded data removed]"
          },
          "metadata": {
            "needs_background": "light"
          }
        }
      ]
    },
    {
      "cell_type": "code",
      "source": [
        "print(y_train)\n",
        "print(y_p)"
      ],
      "metadata": {
        "colab": {
          "base_uri": "https://localhost:8080/"
        },
        "id": "8mJx4e8mOHfe",
        "outputId": "211fd78c-069c-457a-c693-34769bc93b16"
      },
      "execution_count": 22,
      "outputs": [
        {
          "output_type": "stream",
          "name": "stdout",
          "text": [
            "[[4.4716387]\n",
            " [2.3513753]\n",
            " [1.6074358]\n",
            " ...\n",
            " [2.8332133]\n",
            " [0.3920421]\n",
            " [1.5018526]]\n",
            "[[2.805748  ]\n",
            " [2.95606   ]\n",
            " [1.9368871 ]\n",
            " ...\n",
            " [2.8646703 ]\n",
            " [0.83162224]\n",
            " [1.818889  ]]\n"
          ]
        }
      ]
    },
    {
      "cell_type": "code",
      "source": [
        "plt.scatter(x_test, model.predict(x_test), label='Predicted data', alpha=0.5)\n",
        "plt.scatter(x_test, y_test, c = 'r',label='True data', alpha=0.5)\n"
      ],
      "metadata": {
        "colab": {
          "base_uri": "https://localhost:8080/",
          "height": 0
        },
        "id": "2Et3XAUrhqt-",
        "outputId": "7924f513-704a-41ff-b4bf-7e7ca70f0d2b"
      },
      "execution_count": 23,
      "outputs": [
        {
          "output_type": "execute_result",
          "data": {
            "text/plain": [
              "<matplotlib.collections.PathCollection at 0x7f0cb47ab690>"
            ]
          },
          "metadata": {},
          "execution_count": 23
        },
        {
          "output_type": "display_data",
          "data": {
            "text/plain": [
              "<Figure size 432x288 with 1 Axes>"
            ],
            "image/png": "[encoded data removed]"
          },
          "metadata": {
            "needs_background": "light"
          }
        }
      ]
    },
    {
      "cell_type": "code",
      "source": [
        "r_sq = model.score(x_test, y_test)\n",
        "print(f\"coefficient of determination: {r_sq}\")"
      ],
      "metadata": {
        "colab": {
          "base_uri": "https://localhost:8080/"
        },
        "id": "ff45XActPbS1",
        "outputId": "5e5a2572-073c-4788-fc9d-d08597ff532e"
      },
      "execution_count": 24,
      "outputs": [
        {
          "output_type": "stream",
          "name": "stdout",
          "text": [
            "coefficient of determination: 0.3818856641731959\n"
          ]
        }
      ]
    },
    {
      "cell_type": "markdown",
      "source": [
        "## Data Analysis Function by states"
      ],
      "metadata": {
        "id": "_M2cPcsfaRWX"
      }
    },
    {
      "cell_type": "code",
      "source": [
        "print(data['state'].drop_duplicates())\n",
        "list_state = data['state'].drop_duplicates()"
      ],
      "metadata": {
        "colab": {
          "base_uri": "https://localhost:8080/"
        },
        "id": "BNhuOhkHcspy",
        "outputId": "d95d7eb8-c932-412a-9c2f-e08f5b80e6a0"
      },
      "execution_count": 25,
      "outputs": [
        {
          "output_type": "stream",
          "name": "stdout",
          "text": [
            "0            Puerto Rico\n",
            "10334     Virgin Islands\n",
            "24231      Massachusetts\n",
            "27820        Connecticut\n",
            "30126         New Jersey\n",
            "30149           New York\n",
            "32377      New Hampshire\n",
            "33830            Vermont\n",
            "81590       Rhode Island\n",
            "214489           Wyoming\n",
            "244195             Maine\n",
            "353905           Georgia\n",
            "448161      Pennsylvania\n",
            "472451     West Virginia\n",
            "612256          Delaware\n",
            "Name: state, dtype: object\n"
          ]
        }
      ]
    },
    {
      "cell_type": "code",
      "source": [
        "listofstates = list_state.to_list()"
      ],
      "metadata": {
        "id": "p9nHWUFLVX7v"
      },
      "execution_count": 26,
      "outputs": []
    },
    {
      "cell_type": "code",
      "source": [
        "def LinearRegressbyStates(state):\n",
        "  data_state = data[data['state'] == state]\n",
        "  if data_state.size == 0:\n",
        "    print(\"not a valid state\")\n",
        "  else:\n",
        "    # random pick the train and test data\n",
        "    data_state_train = data_state.sample(frac=0.8)\n",
        "    data_state_test = data_state.drop(data_state_train.index)\n",
        "    # modify the data to fit the model\n",
        "    x_test = np.array(data_state_test[\"house_size\"], dtype=np.float32)\n",
        "    x_test = x_test.reshape(-1, 1)\n",
        "    y_test = np.array(data_state_test[\"price\"], dtype=np.float32)\n",
        "    y_test = y_test.reshape(-1, 1)\n",
        "    x_test = np.log(x_test /1000.0 + 1e-6)\n",
        "    y_test = np.log(y_test /100000.0 + 1e-6)\n",
        "\n",
        "\n",
        "    x_train = np.array(data_state_train[\"house_size\"], dtype=np.float32)\n",
        "    x_train = x_train.reshape(-1, 1)\n",
        "    y_train = np.array(data_state_train[\"price\"], dtype=np.float32)\n",
        "    y_train = y_train.reshape(-1, 1)\n",
        "    x_train = np.log(x_train /1000.0 + 1e-6)\n",
        "    y_train = np.log(y_train /100000.0 + 1e-6)\n",
        "\n",
        "    model = LinearRegression()\n",
        "    try:\n",
        "      model.fit(x_train, y_train)\n",
        "    except:\n",
        "      print(x_train)\n",
        "      print(y_train)\n",
        "      plt.scatter(x_train, y_train)\n",
        "      raise ValueError\n",
        "    r_sq = model.score(x_train, y_train)\n",
        "    print(f\"coefficient of determination: {r_sq}\")\n",
        "    print(f\"intercept: {model.intercept_}\")\n",
        "    print(f\"slope: {model.coef_}\")\n",
        "    y_p = model.predict(x_train)\n",
        "    plt.figure(1)\n",
        "    plt.plot(x_train, y_p)\n",
        "    plt.plot(x_train, y_train, 'go', label='True data', alpha=0.5)\n",
        "    plt.figure(2)\n",
        "    plt.scatter(x_test, model.predict(x_test), label='Predicted data', alpha=0.5)\n",
        "    plt.scatter(x_test, y_test, c = 'r',label='True data', alpha=0.5)\n",
        "\n",
        "    r_sq = model.score(x_test, y_test)\n",
        "    # # print(f\"coefficient of determination: {r_sq}\")\n",
        "    return r_sq\n",
        "\n",
        "\n",
        "LinearRegressbyStates(\"New Jersey\")\n"
      ],
      "metadata": {
        "colab": {
          "base_uri": "https://localhost:8080/",
          "height": 0
        },
        "id": "C0LPaxrNaRWh",
        "outputId": "bbfdd60b-9da1-4935-8488-55840392e5aa"
      },
      "execution_count": 27,
      "outputs": [
        {
          "output_type": "stream",
          "name": "stdout",
          "text": [
            "coefficient of determination: 0.25727370464103017\n",
            "intercept: [1.0889344]\n",
            "slope: [[0.59373826]]\n"
          ]
        },
        {
          "output_type": "execute_result",
          "data": {
            "text/plain": [
              "0.2530023921373653"
            ]
          },
          "metadata": {},
          "execution_count": 27
        },
        {
          "output_type": "display_data",
          "data": {
            "text/plain": [
              "<Figure size 432x288 with 1 Axes>"
            ],
            "image/png": "[encoded data removed]"
          },
          "metadata": {
            "needs_background": "light"
          }
        },
        {
          "output_type": "display_data",
          "data": {
            "text/plain": [
              "<Figure size 432x288 with 1 Axes>"
            ],
            "image/png": "[encoded data removed]"
          },
          "metadata": {
            "needs_background": "light"
          }
        }
      ]
    },
    {
      "cell_type": "code",
      "source": [
        "stateoutcomes = {}\n",
        "for state in listofstates:\n",
        "    \n",
        "   result = LinearRegressbyStates(state)\n",
        "   stateoutcomes[state] = result\n",
        "\n",
        "print(stateoutcomes)"
      ],
      "metadata": {
        "colab": {
          "base_uri": "https://localhost:8080/",
          "height": 0
        },
        "id": "gxngpoMeUiiv",
        "outputId": "4080f235-1d38-4136-f19c-a8732364803e"
      },
      "execution_count": 28,
      "outputs": [
        {
          "output_type": "stream",
          "name": "stdout",
          "text": [
            "coefficient of determination: 0.4309484611642762\n",
            "intercept: [0.15863314]\n",
            "slope: [[1.16293]]\n",
            "coefficient of determination: 0.6556456633928545\n",
            "intercept: [0.9974024]\n",
            "slope: [[1.082182]]\n",
            "coefficient of determination: 0.30278443567464863\n",
            "intercept: [1.5266774]\n",
            "slope: [[0.7275087]]\n",
            "coefficient of determination: 0.5026811812721983\n",
            "intercept: [0.6278533]\n",
            "slope: [[0.9999727]]\n",
            "coefficient of determination: 0.2556266283091533\n",
            "intercept: [1.0909497]\n",
            "slope: [[0.59614366]]\n",
            "coefficient of determination: 0.37442853761083617\n",
            "intercept: [1.9865102]\n",
            "slope: [[0.96362615]]\n",
            "coefficient of determination: 0.44532996445115647\n",
            "intercept: [0.8812007]\n",
            "slope: [[0.9039003]]\n",
            "coefficient of determination: 0.3993812424211317\n",
            "intercept: [0.65925837]\n",
            "slope: [[0.96195704]]\n",
            "coefficient of determination: 0.2785055936937333\n",
            "intercept: [1.1013085]\n",
            "slope: [[0.5253434]]\n",
            "coefficient of determination: 1.0\n",
            "intercept: [1.6770967]\n",
            "slope: [[0.]]\n",
            "coefficient of determination: 0.27724755294097914\n",
            "intercept: [0.8005219]\n",
            "slope: [[0.75112575]]\n",
            "coefficient of determination: 0.9687611792287011\n",
            "intercept: [0.994532]\n",
            "slope: [[0.5159439]]\n",
            "coefficient of determination: 0.4792169888145966\n",
            "intercept: [0.6625402]\n",
            "slope: [[1.0195912]]\n"
          ]
        },
        {
          "output_type": "stream",
          "name": "stderr",
          "text": [
            "/usr/local/lib/python3.7/dist-packages/sklearn/metrics/_regression.py:796: UndefinedMetricWarning: R^2 score is not well-defined with less than two samples.\n",
            "  warnings.warn(msg, UndefinedMetricWarning)\n"
          ]
        },
        {
          "output_type": "stream",
          "name": "stdout",
          "text": [
            "coefficient of determination: 1.0\n",
            "intercept: [-0.470002]\n",
            "slope: [[0.]]\n",
            "coefficient of determination: 0.5344152389972615\n",
            "intercept: [0.4117378]\n",
            "slope: [[1.0723528]]\n",
            "{'Puerto Rico': 0.43280019291383454, 'Virgin Islands': 0.5723293907319739, 'Massachusetts': 0.30671414095822847, 'Connecticut': 0.4915820735126918, 'New Jersey': 0.2595876448781733, 'New York': 0.3699303614039443, 'New Hampshire': 0.4545802173217094, 'Vermont': 0.39535053031374445, 'Rhode Island': 0.28928492558755947, 'Wyoming': nan, 'Maine': 0.2784517438443038, 'Georgia': 0.9665158708232088, 'Pennsylvania': 0.4479035174745394, 'West Virginia': nan, 'Delaware': 0.5646344406748907}\n"
          ]
        },
        {
          "output_type": "stream",
          "name": "stderr",
          "text": [
            "/usr/local/lib/python3.7/dist-packages/sklearn/metrics/_regression.py:796: UndefinedMetricWarning: R^2 score is not well-defined with less than two samples.\n",
            "  warnings.warn(msg, UndefinedMetricWarning)\n"
          ]
        },
        {
          "output_type": "display_data",
          "data": {
            "text/plain": [
              "<Figure size 432x288 with 1 Axes>"
            ],
            "image/png": "[encoded data removed]"
          },
          "metadata": {
            "needs_background": "light"
          }
        },
        {
          "output_type": "display_data",
          "data": {
            "text/plain": [
              "<Figure size 432x288 with 1 Axes>"
            ],
            "image/png": "[encoded data removed]"
          },
          "metadata": {
            "needs_background": "light"
          }
        }
      ]
    },
    {
      "cell_type": "code",
      "source": [
        "LinearRegressbyStates(\"Virgin Islands\")"
      ],
      "metadata": {
        "colab": {
          "base_uri": "https://localhost:8080/",
          "height": 0
        },
        "id": "N-mFHb32WGpI",
        "outputId": "402fb52f-6f89-4fd6-cb41-53e6a0cb9110"
      },
      "execution_count": 29,
      "outputs": [
        {
          "output_type": "stream",
          "name": "stdout",
          "text": [
            "coefficient of determination: 0.6655619541562168\n",
            "intercept: [0.99982905]\n",
            "slope: [[1.0912026]]\n"
          ]
        },
        {
          "output_type": "execute_result",
          "data": {
            "text/plain": [
              "0.5507058141111312"
            ]
          },
          "metadata": {},
          "execution_count": 29
        },
        {
          "output_type": "display_data",
          "data": {
            "text/plain": [
              "<Figure size 432x288 with 1 Axes>"
            ],
            "image/png": "[encoded data removed]"
          },
          "metadata": {
            "needs_background": "light"
          }
        },
        {
          "output_type": "display_data",
          "data": {
            "text/plain": [
              "<Figure size 432x288 with 1 Axes>"
            ],
            "image/png": "[encoded data removed]"
          },
          "metadata": {
            "needs_background": "light"
          }
        }
      ]
    },
    {
      "cell_type": "markdown",
      "source": [
        "# acre_lot VS Price\n"
      ],
      "metadata": {
        "id": "3p7YjAR5qc4P"
      }
    },
    {
      "cell_type": "code",
      "source": [
        "from sklearn import preprocessing\n",
        "data = pd.read_csv(\"/content/gdrive/MyDrive/realtor-data.csv\")\n",
        "data = data.dropna(subset = ['acre_lot', 'price'])\n",
        "print(data['state'].drop_duplicates())"
      ],
      "metadata": {
        "colab": {
          "base_uri": "https://localhost:8080/"
        },
        "id": "QDrfixbOrbCM",
        "outputId": "af298f52-d87e-48c0-cf37-ddde30bc9995"
      },
      "execution_count": 30,
      "outputs": [
        {
          "output_type": "stream",
          "name": "stdout",
          "text": [
            "0            Puerto Rico\n",
            "10334     Virgin Islands\n",
            "24231      Massachusetts\n",
            "27820        Connecticut\n",
            "28142      New Hampshire\n",
            "28258            Vermont\n",
            "30126         New Jersey\n",
            "30149           New York\n",
            "78833          Tennessee\n",
            "81590       Rhode Island\n",
            "214489           Wyoming\n",
            "244195             Maine\n",
            "251622          Virginia\n",
            "448161      Pennsylvania\n",
            "472451     West Virginia\n",
            "576439           Georgia\n",
            "612256          Delaware\n",
            "Name: state, dtype: object\n"
          ]
        }
      ]
    },
    {
      "cell_type": "markdown",
      "source": [
        "## Function:"
      ],
      "metadata": {
        "id": "mZNcbN1yqx28"
      }
    },
    {
      "cell_type": "code",
      "source": [
        "def LinearRegressbyStatesusingAcre_lot(state):\n",
        "  data_state = data[data['state'] == state]\n",
        "  if data_state.size == 0:\n",
        "    print(\"not a valid state\")\n",
        "    return -1\n",
        "  if data_state.size <= 100:\n",
        "    print(\"not enough data\")\n",
        "    return -2\n",
        "  else:\n",
        "    # random pick the train and test data\n",
        "    data_state_train = data_state.sample(frac=0.8)\n",
        "    data_state_test = data_state.drop(data_state_train.index)\n",
        "    # modify the data to fit the model\n",
        "    x_test = np.array(data_state_test[\"acre_lot\"], dtype=np.float32).reshape(-1, 1)\n",
        "    x_test = np.log(x_test+ 2e-6)\n",
        "    y_test = np.array(data_state_test[\"price\"], dtype=np.float32).reshape(-1, 1)\n",
        "    y_test = np.log(y_test+ 2e-6)\n",
        "\n",
        "    # plt.scatter(x_test, y_test)\n",
        "\n",
        "\n",
        "    x_train = np.array(data_state_train[\"acre_lot\"], dtype=np.float32).reshape(-1, 1)\n",
        "    x_train = np.log(x_train+ 2e-6)\n",
        "    y_train = np.array(data_state_train[\"price\"], dtype=np.float32).reshape(-1, 1)\n",
        "    y_train = np.log(y_train+ 2e-6)\n",
        "\n",
        "    # plt.scatter(x_train, y_train)\n",
        "    \n",
        "    model = LinearRegression()\n",
        "    try:\n",
        "      model.fit(x_train, y_train)\n",
        "    except:\n",
        "      print(x_train)\n",
        "      print(y_train)\n",
        "      plt.scatter(x_train, y_train)\n",
        "      raise ValueError\n",
        "    # r_sq = model.score(x_train, y_train)\n",
        "    # print(f\"coefficient of determination: {r_sq}\")\n",
        "    # print(f\"intercept: {model.intercept_}\")\n",
        "    # print(f\"slope: {model.coef_}\")\n",
        "    # y_p = model.predict(x_train)\n",
        "    # plt.figure(1)\n",
        "    # plt.plot(x_train, y_p)\n",
        "    # plt.plot(x_train, y_train, 'go', label='True data', alpha=0.5)\n",
        "    # plt.figure(2)\n",
        "    # plt.scatter(x_test, model.predict(x_test), label='Predicted data', alpha=0.5)\n",
        "    # plt.scatter(x_test, y_test, c = 'r',label='True data', alpha=0.5)\n",
        "\n",
        "    r_sq = model.score(x_test, y_test)\n",
        "    # # print(f\"coefficient of determination: {r_sq}\")\n",
        "    return r_sq\n",
        "  \n",
        "LinearRegressbyStatesusingAcre_lot(\"Delaware\")"
      ],
      "metadata": {
        "colab": {
          "base_uri": "https://localhost:8080/"
        },
        "id": "ImamAR3rrEYW",
        "outputId": "c0b5708e-4ae8-46e1-b6e2-1883794ff2d2"
      },
      "execution_count": 31,
      "outputs": [
        {
          "output_type": "execute_result",
          "data": {
            "text/plain": [
              "0.31788253219484575"
            ]
          },
          "metadata": {},
          "execution_count": 31
        }
      ]
    },
    {
      "cell_type": "code",
      "source": [
        "stateoutcomes = {}\n",
        "for state in listofstates:\n",
        "    \n",
        "   result = LinearRegressbyStatesusingAcre_lot(state)\n",
        "   stateoutcomes[state] = result\n",
        "\n",
        "print(stateoutcomes)"
      ],
      "metadata": {
        "colab": {
          "base_uri": "https://localhost:8080/"
        },
        "id": "UsxZ5CslzLhs",
        "outputId": "1a402ba2-8816-4118-ca94-90b1b0dbfc0f"
      },
      "execution_count": 32,
      "outputs": [
        {
          "output_type": "stream",
          "name": "stdout",
          "text": [
            "not enough data\n",
            "not enough data\n",
            "not enough data\n",
            "{'Puerto Rico': 0.07263074760166577, 'Virgin Islands': 0.2719490381035593, 'Massachusetts': 0.024763745747558463, 'Connecticut': 0.0949815977551951, 'New Jersey': 0.02326881074899334, 'New York': 0.0739867902606729, 'New Hampshire': 0.013938046261101067, 'Vermont': 0.05867835667395016, 'Rhode Island': 0.10059958053440254, 'Wyoming': -2, 'Maine': 0.003784185745665525, 'Georgia': -2, 'Pennsylvania': 0.07325877349082399, 'West Virginia': -2, 'Delaware': 0.43273734703533606}\n"
          ]
        }
      ]
    },
    {
      "cell_type": "markdown",
      "source": [
        "# Multi linear regression"
      ],
      "metadata": {
        "id": "83gJ21qyRzek"
      }
    },
    {
      "cell_type": "code",
      "source": [
        "import pandas as pd\n",
        "import numpy as np\n",
        "import matplotlib.pyplot as plt\n",
        "import seaborn as sns\n",
        "from sklearn.model_selection import train_test_split\n",
        "from sklearn.linear_model import LinearRegression\n",
        "from sklearn.metrics import mean_squared_error, mean_absolute_error\n",
        "from sklearn import preprocessing"
      ],
      "metadata": {
        "id": "FmSr75b8TN0X"
      },
      "execution_count": 33,
      "outputs": []
    },
    {
      "cell_type": "code",
      "source": [
        "data = pd.read_csv(\"/content/gdrive/MyDrive/realtor-data.csv\")\n",
        "data = data.dropna(subset = ['acre_lot', 'house_size', 'price'])\n",
        "data\n",
        "\n"
      ],
      "metadata": {
        "id": "y-im9DuuR4Rh",
        "colab": {
          "base_uri": "https://localhost:8080/",
          "height": 467
        },
        "outputId": "bc77c38a-41f4-4bad-b291-50abc1e71725"
      },
      "execution_count": 34,
      "outputs": [
        {
          "output_type": "execute_result",
          "data": {
            "text/plain": [
              "          status     price  bed  bath  acre_lot  \\\n",
              "0       for_sale  105000.0  3.0   2.0      0.12   \n",
              "1       for_sale   80000.0  4.0   2.0      0.08   \n",
              "2       for_sale   67000.0  2.0   1.0      0.15   \n",
              "3       for_sale  145000.0  4.0   2.0      0.10   \n",
              "5       for_sale  179000.0  4.0   3.0      0.46   \n",
              "...          ...       ...  ...   ...       ...   \n",
              "923154  for_sale  445000.0  1.0   2.0      0.99   \n",
              "923155  for_sale  418000.0  4.0   2.0      0.40   \n",
              "923156  for_sale  469000.0  4.0   2.0      0.18   \n",
              "923157  for_sale  825000.0  5.0   5.0      0.79   \n",
              "923158  for_sale   88000.0  NaN   NaN     35.00   \n",
              "\n",
              "                                             full_address  \\\n",
              "0       Sector Yahuecas Titulo # V84, Adjuntas, PR, 00601   \n",
              "1                 Km 78 9 Carr # 135, Adjuntas, PR, 00601   \n",
              "2                 556G 556-G 16 St, Juana Diaz, PR, 00795   \n",
              "3       R5 Comunidad El Paraso Calle De Oro R-5 Ponce,...   \n",
              "5       Bo Calabazas San Sebastian, San Sebastian, PR,...   \n",
              "...                                                   ...   \n",
              "923154                 1008 King St, Chappaqua, NY, 10514   \n",
              "923155                    3 Elmwood Dr, Monroe, NY, 10950   \n",
              "923156                13 N Conger Ave, Congers, NY, 10920   \n",
              "923157             7 Miller Rd, Valley Cottage, NY, 10989   \n",
              "923158  D18 Half Moon Bay Dr, Croton On Hudson, NY, 10520   \n",
              "\n",
              "                                               street              city  \\\n",
              "0                        Sector Yahuecas Titulo # V84          Adjuntas   \n",
              "1                                  Km 78 9 Carr # 135          Adjuntas   \n",
              "2                                    556G 556-G 16 St        Juana Diaz   \n",
              "3       R5 Comunidad El Paraso Calle De Oro R-5 Ponce             Ponce   \n",
              "5                          Bo Calabazas San Sebastian     San Sebastian   \n",
              "...                                               ...               ...   \n",
              "923154                                   1008 King St         Chappaqua   \n",
              "923155                                   3 Elmwood Dr            Monroe   \n",
              "923156                                13 N Conger Ave           Congers   \n",
              "923157                                    7 Miller Rd    Valley Cottage   \n",
              "923158                           D18 Half Moon Bay Dr  Croton On Hudson   \n",
              "\n",
              "              state  zip_code  house_size   sold_date  \n",
              "0       Puerto Rico     601.0       920.0         NaN  \n",
              "1       Puerto Rico     601.0      1527.0         NaN  \n",
              "2       Puerto Rico     795.0       748.0         NaN  \n",
              "3       Puerto Rico     731.0      1800.0         NaN  \n",
              "5       Puerto Rico     612.0      2520.0         NaN  \n",
              "...             ...       ...         ...         ...  \n",
              "923154     New York   10514.0      1052.0  2011-05-09  \n",
              "923155     New York   10950.0      1650.0  2015-07-21  \n",
              "923156     New York   10920.0      2123.0         NaN  \n",
              "923157     New York   10989.0      3775.0  2010-06-02  \n",
              "923158     New York   10520.0       780.0         NaN  \n",
              "\n",
              "[433660 rows x 12 columns]"
            ],
            "text/html": [
              "\n",
              "  <div id=\"df-a6c7d78a-ea64-41ed-8bbf-819620117542\">\n",
              "    <div class=\"colab-df-container\">\n",
              "      <div>\n",
              "<style scoped>\n",
              "    .dataframe tbody tr th:only-of-type {\n",
              "        vertical-align: middle;\n",
              "    }\n",
              "\n",
              "    .dataframe tbody tr th {\n",
              "        vertical-align: top;\n",
              "    }\n",
              "\n",
              "    .dataframe thead th {\n",
              "        text-align: right;\n",
              "    }\n",
              "</style>\n",
              "<table border=\"1\" class=\"dataframe\">\n",
              "  <thead>\n",
              "    <tr style=\"text-align: right;\">\n",
              "      <th></th>\n",
              "      <th>status</th>\n",
              "      <th>price</th>\n",
              "      <th>bed</th>\n",
              "      <th>bath</th>\n",
              "      <th>acre_lot</th>\n",
              "      <th>full_address</th>\n",
              "      <th>street</th>\n",
              "      <th>city</th>\n",
              "      <th>state</th>\n",
              "      <th>zip_code</th>\n",
              "      <th>house_size</th>\n",
              "      <th>sold_date</th>\n",
              "    </tr>\n",
              "  </thead>\n",
              "  <tbody>\n",
              "    <tr>\n",
              "      <th>0</th>\n",
              "      <td>for_sale</td>\n",
              "      <td>105000.0</td>\n",
              "      <td>3.0</td>\n",
              "      <td>2.0</td>\n",
              "      <td>0.12</td>\n",
              "      <td>Sector Yahuecas Titulo # V84, Adjuntas, PR, 00601</td>\n",
              "      <td>Sector Yahuecas Titulo # V84</td>\n",
              "      <td>Adjuntas</td>\n",
              "      <td>Puerto Rico</td>\n",
              "      <td>601.0</td>\n",
              "      <td>920.0</td>\n",
              "      <td>NaN</td>\n",
              "    </tr>\n",
              "    <tr>\n",
              "      <th>1</th>\n",
              "      <td>for_sale</td>\n",
              "      <td>80000.0</td>\n",
              "      <td>4.0</td>\n",
              "      <td>2.0</td>\n",
              "      <td>0.08</td>\n",
              "      <td>Km 78 9 Carr # 135, Adjuntas, PR, 00601</td>\n",
              "      <td>Km 78 9 Carr # 135</td>\n",
              "      <td>Adjuntas</td>\n",
              "      <td>Puerto Rico</td>\n",
              "      <td>601.0</td>\n",
              "      <td>1527.0</td>\n",
              "      <td>NaN</td>\n",
              "    </tr>\n",
              "    <tr>\n",
              "      <th>2</th>\n",
              "      <td>for_sale</td>\n",
              "      <td>67000.0</td>\n",
              "      <td>2.0</td>\n",
              "      <td>1.0</td>\n",
              "      <td>0.15</td>\n",
              "      <td>556G 556-G 16 St, Juana Diaz, PR, 00795</td>\n",
              "      <td>556G 556-G 16 St</td>\n",
              "      <td>Juana Diaz</td>\n",
              "      <td>Puerto Rico</td>\n",
              "      <td>795.0</td>\n",
              "      <td>748.0</td>\n",
              "      <td>NaN</td>\n",
              "    </tr>\n",
              "    <tr>\n",
              "      <th>3</th>\n",
              "      <td>for_sale</td>\n",
              "      <td>145000.0</td>\n",
              "      <td>4.0</td>\n",
              "      <td>2.0</td>\n",
              "      <td>0.10</td>\n",
              "      <td>R5 Comunidad El Paraso Calle De Oro R-5 Ponce,...</td>\n",
              "      <td>R5 Comunidad El Paraso Calle De Oro R-5 Ponce</td>\n",
              "      <td>Ponce</td>\n",
              "      <td>Puerto Rico</td>\n",
              "      <td>731.0</td>\n",
              "      <td>1800.0</td>\n",
              "      <td>NaN</td>\n",
              "    </tr>\n",
              "    <tr>\n",
              "      <th>5</th>\n",
              "      <td>for_sale</td>\n",
              "      <td>179000.0</td>\n",
              "      <td>4.0</td>\n",
              "      <td>3.0</td>\n",
              "      <td>0.46</td>\n",
              "      <td>Bo Calabazas San Sebastian, San Sebastian, PR,...</td>\n",
              "      <td>Bo Calabazas San Sebastian</td>\n",
              "      <td>San Sebastian</td>\n",
              "      <td>Puerto Rico</td>\n",
              "      <td>612.0</td>\n",
              "      <td>2520.0</td>\n",
              "      <td>NaN</td>\n",
              "    </tr>\n",
              "    <tr>\n",
              "      <th>...</th>\n",
              "      <td>...</td>\n",
              "      <td>...</td>\n",
              "      <td>...</td>\n",
              "      <td>...</td>\n",
              "      <td>...</td>\n",
              "      <td>...</td>\n",
              "      <td>...</td>\n",
              "      <td>...</td>\n",
              "      <td>...</td>\n",
              "      <td>...</td>\n",
              "      <td>...</td>\n",
              "      <td>...</td>\n",
              "    </tr>\n",
              "    <tr>\n",
              "      <th>923154</th>\n",
              "      <td>for_sale</td>\n",
              "      <td>445000.0</td>\n",
              "      <td>1.0</td>\n",
              "      <td>2.0</td>\n",
              "      <td>0.99</td>\n",
              "      <td>1008 King St, Chappaqua, NY, 10514</td>\n",
              "      <td>1008 King St</td>\n",
              "      <td>Chappaqua</td>\n",
              "      <td>New York</td>\n",
              "      <td>10514.0</td>\n",
              "      <td>1052.0</td>\n",
              "      <td>2011-05-09</td>\n",
              "    </tr>\n",
              "    <tr>\n",
              "      <th>923155</th>\n",
              "      <td>for_sale</td>\n",
              "      <td>418000.0</td>\n",
              "      <td>4.0</td>\n",
              "      <td>2.0</td>\n",
              "      <td>0.40</td>\n",
              "      <td>3 Elmwood Dr, Monroe, NY, 10950</td>\n",
              "      <td>3 Elmwood Dr</td>\n",
              "      <td>Monroe</td>\n",
              "      <td>New York</td>\n",
              "      <td>10950.0</td>\n",
              "      <td>1650.0</td>\n",
              "      <td>2015-07-21</td>\n",
              "    </tr>\n",
              "    <tr>\n",
              "      <th>923156</th>\n",
              "      <td>for_sale</td>\n",
              "      <td>469000.0</td>\n",
              "      <td>4.0</td>\n",
              "      <td>2.0</td>\n",
              "      <td>0.18</td>\n",
              "      <td>13 N Conger Ave, Congers, NY, 10920</td>\n",
              "      <td>13 N Conger Ave</td>\n",
              "      <td>Congers</td>\n",
              "      <td>New York</td>\n",
              "      <td>10920.0</td>\n",
              "      <td>2123.0</td>\n",
              "      <td>NaN</td>\n",
              "    </tr>\n",
              "    <tr>\n",
              "      <th>923157</th>\n",
              "      <td>for_sale</td>\n",
              "      <td>825000.0</td>\n",
              "      <td>5.0</td>\n",
              "      <td>5.0</td>\n",
              "      <td>0.79</td>\n",
              "      <td>7 Miller Rd, Valley Cottage, NY, 10989</td>\n",
              "      <td>7 Miller Rd</td>\n",
              "      <td>Valley Cottage</td>\n",
              "      <td>New York</td>\n",
              "      <td>10989.0</td>\n",
              "      <td>3775.0</td>\n",
              "      <td>2010-06-02</td>\n",
              "    </tr>\n",
              "    <tr>\n",
              "      <th>923158</th>\n",
              "      <td>for_sale</td>\n",
              "      <td>88000.0</td>\n",
              "      <td>NaN</td>\n",
              "      <td>NaN</td>\n",
              "      <td>35.00</td>\n",
              "      <td>D18 Half Moon Bay Dr, Croton On Hudson, NY, 10520</td>\n",
              "      <td>D18 Half Moon Bay Dr</td>\n",
              "      <td>Croton On Hudson</td>\n",
              "      <td>New York</td>\n",
              "      <td>10520.0</td>\n",
              "      <td>780.0</td>\n",
              "      <td>NaN</td>\n",
              "    </tr>\n",
              "  </tbody>\n",
              "</table>\n",
              "<p>433660 rows × 12 columns</p>\n",
              "</div>\n",
              "      <button class=\"colab-df-convert\" onclick=\"convertToInteractive('df-a6c7d78a-ea64-41ed-8bbf-819620117542')\"\n",
              "              title=\"Convert this dataframe to an interactive table.\"\n",
              "              style=\"display:none;\">\n",
              "        \n",
              "  <svg xmlns=\"http://www.w3.org/2000/svg\" height=\"24px\"viewBox=\"0 0 24 24\"\n",
              "       width=\"24px\">\n",
              "    <path d=\"M0 0h24v24H0V0z\" fill=\"none\"/>\n",
              "    <path d=\"M18.56 5.44l.94 2.06.94-2.06 2.06-.94-2.06-.94-.94-2.06-.94 2.06-2.06.94zm-11 1L8.5 8.5l.94-2.06 2.06-.94-2.06-.94L8.5 2.5l-.94 2.06-2.06.94zm10 10l.94 2.06.94-2.06 2.06-.94-2.06-.94-.94-2.06-.94 2.06-2.06.94z\"/><path d=\"M17.41 7.96l-1.37-1.37c-.4-.4-.92-.59-1.43-.59-.52 0-1.04.2-1.43.59L10.3 9.45l-7.72 7.72c-.78.78-.78 2.05 0 2.83L4 21.41c.39.39.9.59 1.41.59.51 0 1.02-.2 1.41-.59l7.78-7.78 2.81-2.81c.8-.78.8-2.07 0-2.86zM5.41 20L4 18.59l7.72-7.72 1.47 1.35L5.41 20z\"/>\n",
              "  </svg>\n",
              "      </button>\n",
              "      \n",
              "  <style>\n",
              "    .colab-df-container {\n",
              "      display:flex;\n",
              "      flex-wrap:wrap;\n",
              "      gap: 12px;\n",
              "    }\n",
              "\n",
              "    .colab-df-convert {\n",
              "      background-color: #E8F0FE;\n",
              "      border: none;\n",
              "      border-radius: 50%;\n",
              "      cursor: pointer;\n",
              "      display: none;\n",
              "      fill: #1967D2;\n",
              "      height: 32px;\n",
              "      padding: 0 0 0 0;\n",
              "      width: 32px;\n",
              "    }\n",
              "\n",
              "    .colab-df-convert:hover {\n",
              "      background-color: #E2EBFA;\n",
              "      box-shadow: 0px 1px 2px rgba(60, 64, 67, 0.3), 0px 1px 3px 1px rgba(60, 64, 67, 0.15);\n",
              "      fill: #174EA6;\n",
              "    }\n",
              "\n",
              "    [theme=dark] .colab-df-convert {\n",
              "      background-color: #3B4455;\n",
              "      fill: #D2E3FC;\n",
              "    }\n",
              "\n",
              "    [theme=dark] .colab-df-convert:hover {\n",
              "      background-color: #434B5C;\n",
              "      box-shadow: 0px 1px 3px 1px rgba(0, 0, 0, 0.15);\n",
              "      filter: drop-shadow(0px 1px 2px rgba(0, 0, 0, 0.3));\n",
              "      fill: #FFFFFF;\n",
              "    }\n",
              "  </style>\n",
              "\n",
              "      <script>\n",
              "        const buttonEl =\n",
              "          document.querySelector('#df-a6c7d78a-ea64-41ed-8bbf-819620117542 button.colab-df-convert');\n",
              "        buttonEl.style.display =\n",
              "          google.colab.kernel.accessAllowed ? 'block' : 'none';\n",
              "\n",
              "        async function convertToInteractive(key) {\n",
              "          const element = document.querySelector('#df-a6c7d78a-ea64-41ed-8bbf-819620117542');\n",
              "          const dataTable =\n",
              "            await google.colab.kernel.invokeFunction('convertToInteractive',\n",
              "                                                     [key], {});\n",
              "          if (!dataTable) return;\n",
              "\n",
              "          const docLinkHtml = 'Like what you see? Visit the ' +\n",
              "            '<a target=\"_blank\" href=https://colab.research.google.com/notebooks/data_table.ipynb>data table notebook</a>'\n",
              "            + ' to learn more about interactive tables.';\n",
              "          element.innerHTML = '';\n",
              "          dataTable['output_type'] = 'display_data';\n",
              "          await google.colab.output.renderOutput(dataTable, element);\n",
              "          const docLink = document.createElement('div');\n",
              "          docLink.innerHTML = docLinkHtml;\n",
              "          element.appendChild(docLink);\n",
              "        }\n",
              "      </script>\n",
              "    </div>\n",
              "  </div>\n",
              "  "
            ]
          },
          "metadata": {},
          "execution_count": 34
        }
      ]
    },
    {
      "cell_type": "code",
      "source": [
        "# x = data[[\"state\",\"acre_lot\",\"house_size\"]]\n",
        "# y = data[[\"state\",\"price\"]]\n",
        "# x"
      ],
      "metadata": {
        "id": "2xY82NIaT1aE"
      },
      "execution_count": 35,
      "outputs": []
    },
    {
      "cell_type": "markdown",
      "source": [
        "## Function"
      ],
      "metadata": {
        "id": "RlOfkT00TELJ"
      }
    },
    {
      "cell_type": "code",
      "source": [
        "def MutiLinearRegressionbyStates(state):\n",
        "  data_state = data[data['state'] == state]\n",
        "  if data_state.size < 100:\n",
        "    print(\"invaild state or not enough data\")\n",
        "    return -2\n",
        "  else:\n",
        "    data_state_train = data_state.sample(frac=0.8)\n",
        "    data_state_test = data_state.drop(data_state_train.index)\n",
        "    # nomralize later and log\n",
        "    x_train = data_state_train[[\"acre_lot\",\"house_size\"]]\n",
        "    y_train = data_state_train[\"price\"]\n",
        "    x_test = data_state_test[[\"acre_lot\",\"house_size\"]]\n",
        "    y_test = data_state_test[\"price\"]\n",
        "    print(len(x_test))\n",
        "    print(len(x_train))\n",
        "\n",
        "    model = LinearRegression()\n",
        "    model.fit(x_train,y_train)\n",
        "    predictions = model.predict(x_test)\n",
        "    # plt.scatter(x_test, y_test, label='Predicted data', alpha=0.5)\n",
        "    # plt.scatter(x_test, predictions, c = 'r',label='True data', alpha=0.5)\n",
        "\n",
        "    r_sq = model.score(x_test, y_test)\n",
        "    return r_sq\n",
        "MutiLinearRegressionbyStates(\"Delaware\")"
      ],
      "metadata": {
        "colab": {
          "base_uri": "https://localhost:8080/"
        },
        "id": "6T-jNV4UTDdU",
        "outputId": "6574cf94-3a27-45c8-ce65-5f62aa018c90"
      },
      "execution_count": 36,
      "outputs": [
        {
          "output_type": "stream",
          "name": "stdout",
          "text": [
            "348\n",
            "1394\n"
          ]
        },
        {
          "output_type": "execute_result",
          "data": {
            "text/plain": [
              "0.6228629590741213"
            ]
          },
          "metadata": {},
          "execution_count": 36
        }
      ]
    },
    {
      "cell_type": "markdown",
      "source": [
        "# r_sq Analysis"
      ],
      "metadata": {
        "id": "s452txZgSXoU"
      }
    },
    {
      "cell_type": "markdown",
      "source": [
        "## Linear\n"
      ],
      "metadata": {
        "id": "UZ9tEX3RrHx5"
      }
    },
    {
      "cell_type": "code",
      "source": [
        "#@title function\n",
        "def LinearRegressbyStatesColumn(state, column, data_in):\n",
        "  data_state = data_in[data_in['state'] == state].copy()\n",
        "  if data_state.size == 0:\n",
        "    print(\"not a valid state\")\n",
        "    return -1\n",
        "  elif data_state.size < 50:\n",
        "    return -2\n",
        "  else:\n",
        "    data_state_train = data_state.sample(frac=0.8, random_state = 0)\n",
        "    data_state_test = data_state.drop(data_state_train.index)\n",
        "    x_test = np.array(data_state_test[column], dtype=np.float32)\n",
        "    x_test = x_test.reshape(-1, 1)\n",
        "    y_test = np.array(data_state_test[\"price\"], dtype=np.float32)\n",
        "    y_test = y_test.reshape(-1, 1)\n",
        "\n",
        "    x_train = np.array(data_state_train[column], dtype=np.float32)\n",
        "    x_train = x_train.reshape(-1, 1)\n",
        "    y_train = np.array(data_state_train[\"price\"], dtype=np.float32)\n",
        "    y_train = y_train.reshape(-1, 1)\n",
        "\n",
        "    model = LinearRegression()\n",
        "    try:\n",
        "      model.fit(x_train, y_train)\n",
        "    except:\n",
        "      return -3\n",
        "      raise ValueError\n",
        "    \n",
        "    # plt.plot(x_test, model.predict(x_test),\"r\")\n",
        "    # plt.scatter(x_test,y_test)\n",
        "    r_sq = model.score(x_test, y_test)\n",
        "    return r_sq"
      ],
      "metadata": {
        "id": "yD58K57KTJbJ"
      },
      "execution_count": 37,
      "outputs": []
    },
    {
      "cell_type": "code",
      "source": [
        "new_data= pd.read_csv(\"/content/gdrive/MyDrive/realtor-data.csv\")\n",
        "data_with_house_size = new_data.dropna(subset = ['house_size', 'price'])[['house_size', 'price','state']]\n",
        "data_with_acre_lot = new_data.dropna(subset = ['acre_lot', 'price'])[['acre_lot', 'price','state']]\n",
        "data_with_house_size['log_house_size'] = np.log(data_with_house_size['house_size'])\n",
        "data_with_acre_lot['log_acre_lot'] = np.log(data_with_acre_lot['acre_lot'])"
      ],
      "metadata": {
        "colab": {
          "base_uri": "https://localhost:8080/"
        },
        "id": "o_INDhA6UPZT",
        "outputId": "f7641b31-00bd-4c88-b5d3-6d78c1d6f72e"
      },
      "execution_count": 38,
      "outputs": [
        {
          "output_type": "stream",
          "name": "stderr",
          "text": [
            "/usr/local/lib/python3.7/dist-packages/pandas/core/arraylike.py:364: RuntimeWarning: divide by zero encountered in log\n",
            "  result = getattr(ufunc, method)(*inputs, **kwargs)\n"
          ]
        }
      ]
    },
    {
      "cell_type": "code",
      "source": [
        "LinearRegressbyStatesColumn(\"Virgin Islands\",'log_house_size',data_with_house_size)\n",
        "plt.title(\"Virgin Islands house price prediction with house size(log)\")\n",
        "# seed = 0"
      ],
      "metadata": {
        "colab": {
          "base_uri": "https://localhost:8080/",
          "height": 298
        },
        "id": "mcB1EvvPY5H5",
        "outputId": "03fade84-835c-465f-cc5d-ef3a6c3652ea"
      },
      "execution_count": 39,
      "outputs": [
        {
          "output_type": "execute_result",
          "data": {
            "text/plain": [
              "Text(0.5, 1.0, 'Virgin Islands house price prediction with house size(log)')"
            ]
          },
          "metadata": {},
          "execution_count": 39
        },
        {
          "output_type": "display_data",
          "data": {
            "text/plain": [
              "<Figure size 432x288 with 1 Axes>"
            ],
            "image/png": "[encoded data removed]"
          },
          "metadata": {
            "needs_background": "light"
          }
        }
      ]
    },
    {
      "cell_type": "code",
      "source": [
        "type(listofstates)\n",
        "data_with_house_size"
      ],
      "metadata": {
        "colab": {
          "base_uri": "https://localhost:8080/",
          "height": 423
        },
        "id": "BbmPiLdYYOLv",
        "outputId": "41114f6f-9c2a-472b-cefc-5818e59cb302"
      },
      "execution_count": 40,
      "outputs": [
        {
          "output_type": "execute_result",
          "data": {
            "text/plain": [
              "        house_size     price        state  log_house_size\n",
              "0            920.0  105000.0  Puerto Rico        6.824374\n",
              "1           1527.0   80000.0  Puerto Rico        7.331060\n",
              "2            748.0   67000.0  Puerto Rico        6.617403\n",
              "3           1800.0  145000.0  Puerto Rico        7.495542\n",
              "5           2520.0  179000.0  Puerto Rico        7.832014\n",
              "...            ...       ...          ...             ...\n",
              "923154      1052.0  445000.0     New York        6.958448\n",
              "923155      1650.0  418000.0     New York        7.408531\n",
              "923156      2123.0  469000.0     New York        7.660585\n",
              "923157      3775.0  825000.0     New York        8.236156\n",
              "923158       780.0   88000.0     New York        6.659294\n",
              "\n",
              "[625245 rows x 4 columns]"
            ],
            "text/html": [
              "\n",
              "  <div id=\"df-0140366c-7392-4655-8764-b63159d19c4b\">\n",
              "    <div class=\"colab-df-container\">\n",
              "      <div>\n",
              "<style scoped>\n",
              "    .dataframe tbody tr th:only-of-type {\n",
              "        vertical-align: middle;\n",
              "    }\n",
              "\n",
              "    .dataframe tbody tr th {\n",
              "        vertical-align: top;\n",
              "    }\n",
              "\n",
              "    .dataframe thead th {\n",
              "        text-align: right;\n",
              "    }\n",
              "</style>\n",
              "<table border=\"1\" class=\"dataframe\">\n",
              "  <thead>\n",
              "    <tr style=\"text-align: right;\">\n",
              "      <th></th>\n",
              "      <th>house_size</th>\n",
              "      <th>price</th>\n",
              "      <th>state</th>\n",
              "      <th>log_house_size</th>\n",
              "    </tr>\n",
              "  </thead>\n",
              "  <tbody>\n",
              "    <tr>\n",
              "      <th>0</th>\n",
              "      <td>920.0</td>\n",
              "      <td>105000.0</td>\n",
              "      <td>Puerto Rico</td>\n",
              "      <td>6.824374</td>\n",
              "    </tr>\n",
              "    <tr>\n",
              "      <th>1</th>\n",
              "      <td>1527.0</td>\n",
              "      <td>80000.0</td>\n",
              "      <td>Puerto Rico</td>\n",
              "      <td>7.331060</td>\n",
              "    </tr>\n",
              "    <tr>\n",
              "      <th>2</th>\n",
              "      <td>748.0</td>\n",
              "      <td>67000.0</td>\n",
              "      <td>Puerto Rico</td>\n",
              "      <td>6.617403</td>\n",
              "    </tr>\n",
              "    <tr>\n",
              "      <th>3</th>\n",
              "      <td>1800.0</td>\n",
              "      <td>145000.0</td>\n",
              "      <td>Puerto Rico</td>\n",
              "      <td>7.495542</td>\n",
              "    </tr>\n",
              "    <tr>\n",
              "      <th>5</th>\n",
              "      <td>2520.0</td>\n",
              "      <td>179000.0</td>\n",
              "      <td>Puerto Rico</td>\n",
              "      <td>7.832014</td>\n",
              "    </tr>\n",
              "    <tr>\n",
              "      <th>...</th>\n",
              "      <td>...</td>\n",
              "      <td>...</td>\n",
              "      <td>...</td>\n",
              "      <td>...</td>\n",
              "    </tr>\n",
              "    <tr>\n",
              "      <th>923154</th>\n",
              "      <td>1052.0</td>\n",
              "      <td>445000.0</td>\n",
              "      <td>New York</td>\n",
              "      <td>6.958448</td>\n",
              "    </tr>\n",
              "    <tr>\n",
              "      <th>923155</th>\n",
              "      <td>1650.0</td>\n",
              "      <td>418000.0</td>\n",
              "      <td>New York</td>\n",
              "      <td>7.408531</td>\n",
              "    </tr>\n",
              "    <tr>\n",
              "      <th>923156</th>\n",
              "      <td>2123.0</td>\n",
              "      <td>469000.0</td>\n",
              "      <td>New York</td>\n",
              "      <td>7.660585</td>\n",
              "    </tr>\n",
              "    <tr>\n",
              "      <th>923157</th>\n",
              "      <td>3775.0</td>\n",
              "      <td>825000.0</td>\n",
              "      <td>New York</td>\n",
              "      <td>8.236156</td>\n",
              "    </tr>\n",
              "    <tr>\n",
              "      <th>923158</th>\n",
              "      <td>780.0</td>\n",
              "      <td>88000.0</td>\n",
              "      <td>New York</td>\n",
              "      <td>6.659294</td>\n",
              "    </tr>\n",
              "  </tbody>\n",
              "</table>\n",
              "<p>625245 rows × 4 columns</p>\n",
              "</div>\n",
              "      <button class=\"colab-df-convert\" onclick=\"convertToInteractive('df-0140366c-7392-4655-8764-b63159d19c4b')\"\n",
              "              title=\"Convert this dataframe to an interactive table.\"\n",
              "              style=\"display:none;\">\n",
              "        \n",
              "  <svg xmlns=\"http://www.w3.org/2000/svg\" height=\"24px\"viewBox=\"0 0 24 24\"\n",
              "       width=\"24px\">\n",
              "    <path d=\"M0 0h24v24H0V0z\" fill=\"none\"/>\n",
              "    <path d=\"M18.56 5.44l.94 2.06.94-2.06 2.06-.94-2.06-.94-.94-2.06-.94 2.06-2.06.94zm-11 1L8.5 8.5l.94-2.06 2.06-.94-2.06-.94L8.5 2.5l-.94 2.06-2.06.94zm10 10l.94 2.06.94-2.06 2.06-.94-2.06-.94-.94-2.06-.94 2.06-2.06.94z\"/><path d=\"M17.41 7.96l-1.37-1.37c-.4-.4-.92-.59-1.43-.59-.52 0-1.04.2-1.43.59L10.3 9.45l-7.72 7.72c-.78.78-.78 2.05 0 2.83L4 21.41c.39.39.9.59 1.41.59.51 0 1.02-.2 1.41-.59l7.78-7.78 2.81-2.81c.8-.78.8-2.07 0-2.86zM5.41 20L4 18.59l7.72-7.72 1.47 1.35L5.41 20z\"/>\n",
              "  </svg>\n",
              "      </button>\n",
              "      \n",
              "  <style>\n",
              "    .colab-df-container {\n",
              "      display:flex;\n",
              "      flex-wrap:wrap;\n",
              "      gap: 12px;\n",
              "    }\n",
              "\n",
              "    .colab-df-convert {\n",
              "      background-color: #E8F0FE;\n",
              "      border: none;\n",
              "      border-radius: 50%;\n",
              "      cursor: pointer;\n",
              "      display: none;\n",
              "      fill: #1967D2;\n",
              "      height: 32px;\n",
              "      padding: 0 0 0 0;\n",
              "      width: 32px;\n",
              "    }\n",
              "\n",
              "    .colab-df-convert:hover {\n",
              "      background-color: #E2EBFA;\n",
              "      box-shadow: 0px 1px 2px rgba(60, 64, 67, 0.3), 0px 1px 3px 1px rgba(60, 64, 67, 0.15);\n",
              "      fill: #174EA6;\n",
              "    }\n",
              "\n",
              "    [theme=dark] .colab-df-convert {\n",
              "      background-color: #3B4455;\n",
              "      fill: #D2E3FC;\n",
              "    }\n",
              "\n",
              "    [theme=dark] .colab-df-convert:hover {\n",
              "      background-color: #434B5C;\n",
              "      box-shadow: 0px 1px 3px 1px rgba(0, 0, 0, 0.15);\n",
              "      filter: drop-shadow(0px 1px 2px rgba(0, 0, 0, 0.3));\n",
              "      fill: #FFFFFF;\n",
              "    }\n",
              "  </style>\n",
              "\n",
              "      <script>\n",
              "        const buttonEl =\n",
              "          document.querySelector('#df-0140366c-7392-4655-8764-b63159d19c4b button.colab-df-convert');\n",
              "        buttonEl.style.display =\n",
              "          google.colab.kernel.accessAllowed ? 'block' : 'none';\n",
              "\n",
              "        async function convertToInteractive(key) {\n",
              "          const element = document.querySelector('#df-0140366c-7392-4655-8764-b63159d19c4b');\n",
              "          const dataTable =\n",
              "            await google.colab.kernel.invokeFunction('convertToInteractive',\n",
              "                                                     [key], {});\n",
              "          if (!dataTable) return;\n",
              "\n",
              "          const docLinkHtml = 'Like what you see? Visit the ' +\n",
              "            '<a target=\"_blank\" href=https://colab.research.google.com/notebooks/data_table.ipynb>data table notebook</a>'\n",
              "            + ' to learn more about interactive tables.';\n",
              "          element.innerHTML = '';\n",
              "          dataTable['output_type'] = 'display_data';\n",
              "          await google.colab.output.renderOutput(dataTable, element);\n",
              "          const docLink = document.createElement('div');\n",
              "          docLink.innerHTML = docLinkHtml;\n",
              "          element.appendChild(docLink);\n",
              "        }\n",
              "      </script>\n",
              "    </div>\n",
              "  </div>\n",
              "  "
            ]
          },
          "metadata": {},
          "execution_count": 40
        }
      ]
    },
    {
      "cell_type": "code",
      "source": [
        "stateoutcomes_house_size = {}\n",
        "for state in listofstates:\n",
        "  result = LinearRegressbyStatesColumn(state,'house_size',data_with_house_size)\n",
        "  if result < 0: continue\n",
        "  stateoutcomes_house_size[state] = result\n",
        "\n",
        "print(stateoutcomes_house_size)\n",
        "plt.figure(1)\n",
        "plt.title(\"r_sq of price prediction using house size\")\n",
        "plt.barh(range(len(stateoutcomes_house_size)), stateoutcomes_house_size.values(), tick_label=list(stateoutcomes_house_size.keys()))\n",
        "stateoutcomes_house_size_log = {}\n",
        "for state in listofstates:\n",
        "  result = LinearRegressbyStatesColumn(state,'log_house_size',data_with_house_size)\n",
        "  if result < 0: continue\n",
        "  stateoutcomes_house_size_log[state] = result\n",
        "print()\n",
        "print(stateoutcomes_house_size_log)\n",
        "plt.figure(2)\n",
        "plt.title(\"r_sq of price prediction using house size with log\")\n",
        "plt.barh(range(len(stateoutcomes_house_size_log)), stateoutcomes_house_size_log.values(), tick_label=list(stateoutcomes_house_size_log.keys()))\n",
        "stateoutcomes_acre_lot = {}\n",
        "for state in listofstates:\n",
        "  result = LinearRegressbyStatesColumn(state,'acre_lot',data_with_acre_lot)\n",
        "  if result < 0: continue\n",
        "  stateoutcomes_acre_lot[state] = result\n",
        "print(\"acre lot:\")\n",
        "print(stateoutcomes_acre_lot)\n",
        "plt.figure(3)\n",
        "plt.title(\"r_sq of price prediction using acre lot\")\n",
        "plt.barh(range(len(stateoutcomes_acre_lot)), stateoutcomes_acre_lot.values(), tick_label=list(stateoutcomes_acre_lot.keys()))\n",
        "stateoutcomes_acre_lot_log = {}\n",
        "for state in listofstates:\n",
        "  result = LinearRegressbyStatesColumn(state,'log_acre_lot',data_with_acre_lot)\n",
        "  if result < 0: continue\n",
        "  stateoutcomes_acre_lot_log[state] = result\n",
        "print(\"acre lot with log:\")\n",
        "print(stateoutcomes_acre_lot_log)\n",
        "plt.figure(4)\n",
        "plt.title(\"r_sq of price prediction using acre lot with log\")\n",
        "plt.barh(range(len(stateoutcomes_acre_lot_log)), stateoutcomes_acre_lot_log.values(), tick_label=list(stateoutcomes_acre_lot_log.keys()))"
      ],
      "metadata": {
        "colab": {
          "base_uri": "https://localhost:8080/",
          "height": 1000
        },
        "id": "WkXxF6BeXOn0",
        "outputId": "1994595d-d3d2-4749-d5ce-f498a07f1f00"
      },
      "execution_count": 41,
      "outputs": [
        {
          "output_type": "stream",
          "name": "stdout",
          "text": [
            "{'Virgin Islands': 0.36193692256308596, 'Massachusetts': 0.2492487280387906, 'Connecticut': 0.15839443602531533, 'New York': 0.07616104689053582, 'New Hampshire': 0.31338535880961216, 'Vermont': 0.33494342681840295, 'Rhode Island': 0.17324244295810398, 'Maine': 0.24106956505196053, 'Georgia': 0.9527599770387752, 'Pennsylvania': 0.3224474325274327, 'Delaware': 0.5179390479094028}\n",
            "\n",
            "{'Puerto Rico': 0.17652007866442854, 'Virgin Islands': 0.3974554193766129, 'Massachusetts': 0.23290400122126653, 'Connecticut': 0.11587828558527546, 'New Jersey': 0.1680315345909218, 'New York': 0.07448739924089653, 'New Hampshire': 0.20368688719109607, 'Vermont': 0.27485060803044825, 'Rhode Island': 0.14531194037157957, 'Maine': 0.19732716309767862, 'Georgia': 0.9527569826129278, 'Pennsylvania': 0.2590932285144768, 'Delaware': 0.48657153075090576}\n",
            "acre lot:\n",
            "{'Virgin Islands': 0.18018296309483617, 'Massachusetts': 0.0004806445883959176, 'New Hampshire': 0.020879433809333436, 'Vermont': 0.0898790480138918, 'Rhode Island': 9.222000548014808e-05}\n",
            "acre lot with log:\n",
            "{'Virgin Islands': 0.21893294826226317, 'Connecticut': 0.05014798276788757, 'New Hampshire': 0.02106004678649087, 'Vermont': 0.06625686665276875, 'Maine': 0.01303289443685085, 'Delaware': 0.4854989298188901}\n"
          ]
        },
        {
          "output_type": "execute_result",
          "data": {
            "text/plain": [
              "<BarContainer object of 6 artists>"
            ]
          },
          "metadata": {},
          "execution_count": 41
        },
        {
          "output_type": "display_data",
          "data": {
            "text/plain": [
              "<Figure size 432x288 with 1 Axes>"
            ],
            "image/png": "[encoded data removed]"
          },
          "metadata": {
            "needs_background": "light"
          }
        },
        {
          "output_type": "display_data",
          "data": {
            "text/plain": [
              "<Figure size 432x288 with 1 Axes>"
            ],
            "image/png": "[encoded data removed]"
          },
          "metadata": {
            "needs_background": "light"
          }
        },
        {
          "output_type": "display_data",
          "data": {
            "text/plain": [
              "<Figure size 432x288 with 1 Axes>"
            ],
            "image/png": "[encoded data removed]"
          },
          "metadata": {
            "needs_background": "light"
          }
        },
        {
          "output_type": "display_data",
          "data": {
            "text/plain": [
              "<Figure size 432x288 with 1 Axes>"
            ],
            "image/png": "[encoded data removed]"
          },
          "metadata": {
            "needs_background": "light"
          }
        }
      ]
    },
    {
      "cell_type": "markdown",
      "source": [
        "## Muti Linear\n"
      ],
      "metadata": {
        "id": "813cQa4cSwwy"
      }
    },
    {
      "cell_type": "code",
      "source": [
        "from sklearn.preprocessing import MinMaxScaler \n",
        "from sklearn.preprocessing import StandardScaler"
      ],
      "metadata": {
        "id": "pY90AJDpsZIp"
      },
      "execution_count": 42,
      "outputs": []
    },
    {
      "cell_type": "code",
      "source": [
        "new_data_2= pd.read_csv(\"/content/gdrive/MyDrive/realtor-data.csv\")\n",
        "data_with_both = new_data_2.dropna(subset = ['house_size', 'price','acre_lot'])[['house_size','acre_lot', 'price','state']]\n",
        "data_with_both['log_acre_lot'] = np.log(data_with_both['acre_lot'])"
      ],
      "metadata": {
        "id": "wMBrhxQerQcc",
        "colab": {
          "base_uri": "https://localhost:8080/"
        },
        "outputId": "e0903ad0-d70a-4074-e174-3bd33248bdda"
      },
      "execution_count": 46,
      "outputs": [
        {
          "output_type": "stream",
          "name": "stderr",
          "text": [
            "/usr/local/lib/python3.7/dist-packages/pandas/core/arraylike.py:364: RuntimeWarning: divide by zero encountered in log\n",
            "  result = getattr(ufunc, method)(*inputs, **kwargs)\n"
          ]
        }
      ]
    },
    {
      "cell_type": "code",
      "source": [
        "def MutiLinearRegressionPLUS(state):\n",
        "  data_state = data_with_both[data_with_both['state'] == state]\n",
        "  if data_state.size < 100:\n",
        "    print(\"invaild state or not enough data\")\n",
        "    return -2\n",
        "  else:\n",
        "    print(len(data_state))\n",
        "    data_state_train = data_state.sample(frac=0.8, random_state = 1)\n",
        "    data_state_test = data_state.drop(data_state_train.index)\n",
        "    # nomralize later and log\n",
        "    x_train = data_state_train[[\"log_acre_lot\",\"house_size\"]]\n",
        "    y_train = data_state_train[\"price\"]\n",
        "    x_test = data_state_test[[\"log_acre_lot\",\"house_size\"]]\n",
        "    y_test = data_state_test[\"price\"]\n",
        "\n",
        "    model = LinearRegression()\n",
        "    model.fit(x_train,y_train)\n",
        "    predictions = model.predict(x_test)\n",
        "    r_sq_1 = model.score(x_test, y_test)\n",
        "    # Normalization\n",
        "    \n",
        "     \n",
        "    min_max_scaler = MinMaxScaler().fit(x_test)\n",
        "    x_train_nomal = min_max_scaler.transform(x_train)\n",
        "    x_test_nomal = min_max_scaler.transform(x_test)\n",
        "\n",
        "    model = LinearRegression()\n",
        "    model.fit(x_train_nomal,y_train)\n",
        "    predictions = model.predict(x_test_nomal)\n",
        "\n",
        "    r_sq_2 = model.score(x_test_nomal, y_test)\n",
        "\n",
        "    # Standardization\n",
        "    scaler = StandardScaler().fit(x_train)\n",
        "    x_train_std = scaler.transform(x_train)\n",
        "    x_test_std = scaler.transform(x_test)\n",
        "\n",
        "    model = LinearRegression()\n",
        "    model.fit(x_train_std,y_train)\n",
        "    predictions = model.predict(x_test_std)\n",
        "\n",
        "    r_sq_3 = model.score(x_test_std, y_test)\n",
        "\n",
        "    return r_sq_1,r_sq_2,r_sq_3\n",
        "print(MutiLinearRegressionPLUS(\"Delaware\"))"
      ],
      "metadata": {
        "colab": {
          "base_uri": "https://localhost:8080/"
        },
        "id": "omg2IljSu3G3",
        "outputId": "e51859bc-b28f-4fc8-a44b-597c7a29813e"
      },
      "execution_count": 50,
      "outputs": [
        {
          "output_type": "stream",
          "name": "stdout",
          "text": [
            "1742\n",
            "(0.6417373874148626, 0.6417373874148626, 0.6417373874148626)\n"
          ]
        }
      ]
    },
    {
      "cell_type": "markdown",
      "source": [
        "# Unused Code"
      ],
      "metadata": {
        "id": "ZfW-227YXz3s"
      }
    },
    {
      "cell_type": "code",
      "source": [
        "# class linearRegression(torch.nn.Module):\n",
        "#     def __init__(self, inputSize, outputSize):\n",
        "#         super(linearRegression, self).__init__()\n",
        "#         self.linear = torch.nn.Linear(inputSize, outputSize)\n",
        "\n",
        "#     def forward(self, x):\n",
        "#         out = self.linear(x)\n",
        "#         return out\n",
        "\n",
        "# #@title\n",
        "# inputDim = 1        # takes variable 'x' \n",
        "# outputDim = 1       # takes variable 'y'\n",
        "# learningRate = 0.01\n",
        "# epochs = 100\n",
        "\n",
        "# model = linearRegression(inputDim, outputDim)\n",
        "# ##### For GPU #######\n",
        "# if torch.cuda.is_available():\n",
        "#     model.cuda()\n",
        "\n",
        "\n",
        "# #@title\n",
        "# # initialize the loss (Mean Squared Error) and optimization (Stochastic Gradient Descent)\n",
        "# criterion = torch.nn.MSELoss() \n",
        "# optimizer = torch.optim.SGD(model.parameters(), lr=learningRate)\n",
        "# #@title\n",
        "# for epoch in range(100):\n",
        "#     # Converting inputs and labels to Variable\n",
        "#     if torch.cuda.is_available():\n",
        "#         inputs = Variable(torch.from_numpy(x_train).cuda())\n",
        "#         labels = Variable(torch.from_numpy(y_train).cuda())\n",
        "#     else:\n",
        "#         inputs = Variable(torch.from_numpy(x_train))\n",
        "#         labels = Variable(torch.from_numpy(y_train))\n",
        "\n",
        "#     # Clear gradient buffers because we don't want any gradient from previous epoch to carry forward, dont want to cummulate gradients\n",
        "    \n",
        "\n",
        "#     # get output from the model, given the inputs\n",
        "#     outputs = model(inputs)\n",
        "\n",
        "#     # get loss for the predicted output\n",
        "#     loss = criterion(outputs, labels)\n",
        "#     print(loss)\n",
        "#     # get gradients w.r.t to parameters\n",
        "#     optimizer.zero_grad()\n",
        "#     loss.backward()\n",
        "\n",
        "#     # update parameters\n",
        "#     optimizer.step()\n",
        "\n",
        "#     print('epoch {}, loss {}'.format(epoch, loss.item()))\n",
        "# #@title\n",
        "# data.hist(column = [\"price\"], bins = 100)\n",
        "# #@title\n",
        "# data.describe()\n",
        "# #@title\n",
        "# data\n",
        "# #@title\n",
        "# data.dropna(subset = ['house_size', 'price'])"
      ],
      "metadata": {
        "id": "pnhCFrQaYT3e"
      },
      "execution_count": 45,
      "outputs": []
    }
  ]
}